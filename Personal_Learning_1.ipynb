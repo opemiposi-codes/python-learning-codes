{
  "nbformat": 4,
  "nbformat_minor": 0,
  "metadata": {
    "colab": {
      "provenance": [],
      "authorship_tag": "ABX9TyOsFHdLH9XmhhTmvIh6cCCW",
      "include_colab_link": true
    },
    "kernelspec": {
      "name": "python3",
      "display_name": "Python 3"
    },
    "language_info": {
      "name": "python"
    }
  },
  "cells": [
    {
      "cell_type": "markdown",
      "metadata": {
        "id": "view-in-github",
        "colab_type": "text"
      },
      "source": [
        "<a href=\"https://colab.research.google.com/github/opemiposi-codes/python-learning-codes/blob/main/Personal_Learning_1.ipynb\" target=\"_parent\"><img src=\"https://colab.research.google.com/assets/colab-badge.svg\" alt=\"Open In Colab\"/></a>"
      ]
    },
    {
      "cell_type": "code",
      "execution_count": null,
      "metadata": {
        "colab": {
          "base_uri": "https://localhost:8080/"
        },
        "id": "uyyPp6O6JSAv",
        "outputId": "e2dd668e-c6ab-4c92-ceaf-83304cbb220b"
      },
      "outputs": [
        {
          "output_type": "stream",
          "name": "stdout",
          "text": [
            "Afamefuna Samuel\n"
          ]
        }
      ],
      "source": [
        "print(\"Afamefuna Samuel\")"
      ]
    },
    {
      "cell_type": "code",
      "source": [
        "print(\"welcome to\", \"Python programming!\")"
      ],
      "metadata": {
        "colab": {
          "base_uri": "https://localhost:8080/"
        },
        "id": "jdj4vP8UYCtC",
        "outputId": "66713ee2-13ca-4291-c3ce-8633aed7988c"
      },
      "execution_count": null,
      "outputs": [
        {
          "output_type": "stream",
          "name": "stdout",
          "text": [
            "welcome to Python programming!\n"
          ]
        }
      ]
    },
    {
      "cell_type": "code",
      "source": [
        "name = \"Afamefuna Samuel\"\n",
        "print(\"Hello,\", name)"
      ],
      "metadata": {
        "colab": {
          "base_uri": "https://localhost:8080/"
        },
        "id": "qmn-bCa7Zx8Y",
        "outputId": "1873da60-694f-49f9-90b5-ba9a1da68c71"
      },
      "execution_count": null,
      "outputs": [
        {
          "output_type": "stream",
          "name": "stdout",
          "text": [
            "Hello, Afamefuna Samuel\n"
          ]
        }
      ]
    },
    {
      "cell_type": "code",
      "source": [
        "# This is a comment\n",
        "print(\"This will be printed\") # This is an inline comment"
      ],
      "metadata": {
        "colab": {
          "base_uri": "https://localhost:8080/"
        },
        "id": "BV-vUGFzeBW4",
        "outputId": "feb4f7ba-3f01-4b21-971b-0d23b3058edc"
      },
      "execution_count": null,
      "outputs": [
        {
          "output_type": "stream",
          "name": "stdout",
          "text": [
            "This will be printed\n"
          ]
        }
      ]
    },
    {
      "cell_type": "code",
      "source": [
        "# Cold Kunu\n",
        "# Cold Zobo\n",
        "\"\"\"\n",
        "They said this stuff won't be printed innit?\n",
        "\n",
        "\"\"\""
      ],
      "metadata": {
        "colab": {
          "base_uri": "https://localhost:8080/",
          "height": 35
        },
        "id": "WG7spzfleTCN",
        "outputId": "3d72f8aa-2c1c-4d17-efb5-eff76a96947e"
      },
      "execution_count": null,
      "outputs": [
        {
          "output_type": "execute_result",
          "data": {
            "text/plain": [
              "\"\\nThey said this stuff won't be printed innit?\\n\\n\""
            ],
            "application/vnd.google.colaboratory.intrinsic+json": {
              "type": "string"
            }
          },
          "metadata": {},
          "execution_count": 11
        }
      ]
    },
    {
      "cell_type": "code",
      "source": [
        "# garri\n",
        "# thunder kids\n",
        "a = 4\n",
        "a"
      ],
      "metadata": {
        "id": "Z5W-Ce6RemyR",
        "colab": {
          "base_uri": "https://localhost:8080/"
        },
        "outputId": "3e20e6e6-cccf-41fb-830d-8b2e3873e0a5"
      },
      "execution_count": null,
      "outputs": [
        {
          "output_type": "execute_result",
          "data": {
            "text/plain": [
              "4"
            ]
          },
          "metadata": {},
          "execution_count": 1
        }
      ]
    },
    {
      "cell_type": "code",
      "source": [
        "name = \"Afamefuna Samuel\"\n",
        "age = 21\n",
        "pi = 3.142\n",
        "## above is a variable declaration\n",
        "\n",
        "print(name)\n",
        "print(age)\n",
        "print(pi)\n",
        "# we can use the print (type(variable declaration)) to know what data type we are dealing with\n",
        "# lets cook\n",
        "print(type(age))\n",
        "print(type(name))\n",
        "print(type(pi))\n"
      ],
      "metadata": {
        "colab": {
          "base_uri": "https://localhost:8080/"
        },
        "id": "50zHhQC0uG8m",
        "outputId": "0a0f5a5f-fa91-4736-dd43-8abba5c4dceb"
      },
      "execution_count": null,
      "outputs": [
        {
          "output_type": "stream",
          "name": "stdout",
          "text": [
            "Afamefuna Samuel\n",
            "21\n",
            "3.142\n",
            "<class 'int'>\n",
            "<class 'str'>\n",
            "<class 'float'>\n"
          ]
        }
      ]
    },
    {
      "cell_type": "code",
      "source": [
        "# integers are for numbers that have no decimal point\n",
        "# they are also used for simple arithmetic additions\n",
        "# example is found below\n",
        "print(2 + 3)\n",
        "\n",
        "# floats are associated with numbers that have decimal points\n",
        "#  they are used for measurements that require precision\n",
        "print(3.5 * 2)\n",
        "\n",
        "# strings are sequences of chracters that are enclosed in double quotes\n",
        "# they are used to represent text\n",
        "greeting = \"Hello\"\n",
        "username = \"Afamefuna Samuel\"\n",
        "print(greeting, username)\n",
        "\n",
        "# we use print(len(variable name)) to know the amount of characters in a string\n",
        "# variable general name and it is only used for strings\n",
        "print(len(greeting))\n",
        "\n",
        "# conversion of various data types\n",
        "# case study\n",
        "string1 =\"10\"\n",
        "print(string1, type(string1))\n",
        "\n",
        "# conversion fron string to integer\n",
        "num1 = int(string1)\n",
        "print(num1, type(num1))\n",
        "\n",
        "# conversion from integer to float\n",
        "float1 = float(num1)\n",
        "print(float1, type(float1))\n",
        "\n",
        "# conversion from float to string\n",
        "float1_string = str(float1)\n",
        "print(float1_string, type(float1_string))\n",
        "\n",
        "# conversion from string to float\n",
        "float2 = float(string1)\n",
        "print(float2, type(float2))\n",
        "\n",
        "\n"
      ],
      "metadata": {
        "colab": {
          "base_uri": "https://localhost:8080/"
        },
        "id": "9LAsA9SJ6PiT",
        "outputId": "b29cb1a2-f922-4e76-f955-bd347fdd02ca"
      },
      "execution_count": 1,
      "outputs": [
        {
          "output_type": "stream",
          "name": "stdout",
          "text": [
            "5\n",
            "7.0\n",
            "Hello Afamefuna Samuel\n",
            "5\n",
            "10 <class 'str'>\n",
            "10 <class 'int'>\n",
            "10.0 <class 'float'>\n",
            "10.0 <class 'str'>\n",
            "10.0 <class 'float'>\n"
          ]
        }
      ]
    },
    {
      "cell_type": "code",
      "source": [
        "# simple output and input in python\n",
        "# print function is to display output\n",
        "name = \"Afamefuna Samuel\"\n",
        "print(\"Welcome to Python Learning\", name)\n",
        "\n",
        "# input function is used to get information from the user\n",
        "age = input(\"How old are you: \")\n",
        "print(age)\n",
        "\n",
        "status = input(\"Are you single or married: \")\n",
        "print(status)"
      ],
      "metadata": {
        "colab": {
          "base_uri": "https://localhost:8080/"
        },
        "id": "SpRWTHZvPo9G",
        "outputId": "da7e8df2-8497-474a-af91-a3fe8c2fb995"
      },
      "execution_count": 4,
      "outputs": [
        {
          "output_type": "stream",
          "name": "stdout",
          "text": [
            "Welcome to Python Learning Afamefuna Samuel\n",
            "How old are you: 21\n",
            "21\n",
            "Are you single or married: single\n",
            "single\n"
          ]
        }
      ]
    },
    {
      "cell_type": "code",
      "source": [
        "# combining input and output for calculations\n",
        "# whenever we are calculating using the input function we need to always convert it to either float or int\n",
        "# so that the calculations can be processed\n",
        "age = int(input(\"Enter your age: \"))\n",
        "print(\"Next year, you will be\", age + 1, \"years old\")\n"
      ],
      "metadata": {
        "colab": {
          "base_uri": "https://localhost:8080/"
        },
        "id": "rlue08KNcrG8",
        "outputId": "06edb117-6ec1-41e4-cf16-c4468e58d194"
      },
      "execution_count": 5,
      "outputs": [
        {
          "output_type": "stream",
          "name": "stdout",
          "text": [
            "Enter your age: 21\n",
            "Next year, you will be 22 years old\n"
          ]
        }
      ]
    },
    {
      "cell_type": "code",
      "source": [
        "# creating a simple calculator for decimals using float\n",
        "number1 = float(input(\"Enter the first number: \"))\n",
        "number2 = float(input(\"Enter the second number: \"))\n",
        "result = number1 + number2\n",
        "print(\"The sum of the two numbers is: \", result)\n"
      ],
      "metadata": {
        "colab": {
          "base_uri": "https://localhost:8080/"
        },
        "id": "Qyc_AQ2ugAUZ",
        "outputId": "200a8dfa-2db4-45e0-c085-313def723cc6"
      },
      "execution_count": 6,
      "outputs": [
        {
          "output_type": "stream",
          "name": "stdout",
          "text": [
            "Enter the first number: 19.4\n",
            "Enter the second number: 23.5\n",
            "The sum of the two numbers is:  42.9\n"
          ]
        }
      ]
    },
    {
      "cell_type": "code",
      "source": [
        "# creating a simple calculator for integers using int\n",
        "number1 = int(input(\"Enter the first number\"))\n",
        "number2 = int(input(\"Enter the second number\"))\n",
        "result = number1 + number2\n",
        "print(\"The sum of the two numbers is: \", result)"
      ],
      "metadata": {
        "colab": {
          "base_uri": "https://localhost:8080/"
        },
        "id": "2GwznNWritFD",
        "outputId": "9724c273-0e74-44e2-cf8a-3d14ecf8dce8"
      },
      "execution_count": 8,
      "outputs": [
        {
          "output_type": "stream",
          "name": "stdout",
          "text": [
            "Enter the first number3456\n",
            "Enter the second number4567\n",
            "The sum of the two numbers is:  8023\n"
          ]
        }
      ]
    },
    {
      "cell_type": "code",
      "source": [
        "# working with the if and else statements\n",
        "age = int(input(\"Enter your age:\"))\n",
        "if age >= 18:\n",
        "  print(\"You are an adult\")\n",
        "else:\n",
        "  print(\"You are too young, bruhhhh \")"
      ],
      "metadata": {
        "colab": {
          "base_uri": "https://localhost:8080/"
        },
        "id": "t3LxjGqtwTmd",
        "outputId": "bb550090-d9b0-4edb-bd75-be71d684656b"
      },
      "execution_count": 10,
      "outputs": [
        {
          "output_type": "stream",
          "name": "stdout",
          "text": [
            "Enter your age:15\n",
            "You are too young, bruhhhh \n"
          ]
        }
      ]
    },
    {
      "cell_type": "markdown",
      "source": [
        "# Assignments"
      ],
      "metadata": {
        "id": "wTfRCk93xre7"
      }
    },
    {
      "cell_type": "markdown",
      "source": [],
      "metadata": {
        "id": "cuzCCqeKx_u_"
      }
    },
    {
      "cell_type": "markdown",
      "source": [
        "## **Class 1 Assignments**\n",
        "\n",
        "### **Assignment 1: Practicing `print()` Statements**\n",
        "1. **Task:** Write a Python program that prints the following:\n",
        "   - Your full name.\n",
        "   - Your favorite hobby.\n",
        "   - The number of hours you spend on your hobby each week.\n",
        "\n",
        "   **Example Output:**\n",
        "   ```\n",
        "   John Doe\n",
        "   Reading\n",
        "   5\n",
        "   ```\n"
      ],
      "metadata": {
        "id": "VjPPv41ugs8m"
      }
    },
    {
      "cell_type": "code",
      "source": [
        "name = \"Afamefuna Samuel\"\n",
        "Hobby = \"Eating\"\n",
        "Hours = \"7\"\n",
        "\n",
        "print(name)\n",
        "print(Hobby)\n",
        "print(Hours)"
      ],
      "metadata": {
        "colab": {
          "base_uri": "https://localhost:8080/"
        },
        "id": "VY1-EjYkySF6",
        "outputId": "d6fea2c1-2e8b-498b-c0ff-936754ee172d"
      },
      "execution_count": 14,
      "outputs": [
        {
          "output_type": "stream",
          "name": "stdout",
          "text": [
            "Afamefuna Samuel\n",
            "Eating\n",
            "7\n"
          ]
        }
      ]
    },
    {
      "cell_type": "markdown",
      "source": [
        "# Assignment 2: Working with Variables\n",
        "Task: Create variables to store the following information:\n",
        "\n",
        "Your name.\n",
        "Your age.\n",
        "Your favorite color.\n",
        "Print a sentence that includes all this information.\n",
        "Example Output:\n",
        "\n",
        "My name is John Doe, I am 25 years old, and my favorite color is blue."
      ],
      "metadata": {
        "id": "FZxO2Fwczrvb"
      }
    },
    {
      "cell_type": "code",
      "source": [
        "name = \"Afamefuna Samuel,\"\n",
        "age = \"21\"\n",
        "favorite_color =\"red.\"\n",
        "print(\"My name is\", name, \"I am\", age, \"years old, and my favorite color is\", favorite_color)"
      ],
      "metadata": {
        "colab": {
          "base_uri": "https://localhost:8080/"
        },
        "id": "LsTVM-Ln0Nb-",
        "outputId": "519e4a45-963a-4a5c-c211-c4f27a1b433c"
      },
      "execution_count": 18,
      "outputs": [
        {
          "output_type": "stream",
          "name": "stdout",
          "text": [
            "My name is Afamefuna Samuel, I am 21 years old, and my favorite color is red.\n"
          ]
        }
      ]
    },
    {
      "cell_type": "markdown",
      "source": [
        "# Task: Write a program that asks the user for their:\n",
        "\n",
        "First name.\n",
        "Last name.\n",
        "Age.\n",
        "Then, print a greeting message that includes their full name and how old they will be next year.\n",
        "Example Interaction:\n",
        "\n",
        "Enter your first name: John\n",
        "Enter your last name: Doe\n",
        "Enter your age: 25\n",
        "Hello, John Doe! Next year, you will be 26 years old."
      ],
      "metadata": {
        "id": "hxr3Yqyd2M9T"
      }
    },
    {
      "cell_type": "code",
      "source": [
        "name1 = input(\"Enter your first name: \")\n",
        "name2 = input (\"Enter your last name: \")\n",
        "age = int(input(\"Enter your age: \"))\n",
        "print(\"Hello,\", name1, name2, \"Next year, you will be\", age + 1, \"years old.\" )"
      ],
      "metadata": {
        "colab": {
          "base_uri": "https://localhost:8080/"
        },
        "id": "c7L_qgJA2YbE",
        "outputId": "44ecd885-e5a9-467d-ae7e-b66efea5df3a"
      },
      "execution_count": 20,
      "outputs": [
        {
          "output_type": "stream",
          "name": "stdout",
          "text": [
            "Enter your first name: Afamefuna\n",
            "Enter your last name: Samuel\n",
            "Enter your age: 21\n",
            "Hello, Afamefuna Samuel Next year, you will be 22 years old.\n"
          ]
        }
      ]
    },
    {
      "cell_type": "markdown",
      "source": [
        "# Assignment 4:\n",
        "## Basic Arithmetic\n",
        "Task: Write a program that:\n",
        "\n",
        "Asks the user to enter two numbers.\n",
        "\n",
        "Stores these numbers in variables.\n",
        "\n",
        "Calculates and prints the sum, difference, product, and quotient of the two numbers.\n",
        "\n",
        "Example Interaction:\n",
        "\n",
        "Enter the first number: 8\n",
        "\n",
        "Enter the second number: 2\n",
        "\n",
        "Sum: 10\n",
        "\n",
        "Difference: 6\n",
        "\n",
        "Product: 16"
      ],
      "metadata": {
        "id": "yw8qECVc4uj0"
      }
    },
    {
      "cell_type": "code",
      "source": [
        "  number1 = float(input(\"Enter the first number: \"))\n",
        "  number2 = float(input(\"Enter the second number\"))\n",
        "sum = number1 + number2\n",
        "difference = number1 - number2\n",
        "product = number1 * number2\n",
        "quotient = number1 / number2\n",
        "print(\"sum: \", sum)\n",
        "print(\"difference: \", difference)\n",
        "print(\"product\", product)\n",
        "print(\"quotient: \", quotient)"
      ],
      "metadata": {
        "colab": {
          "base_uri": "https://localhost:8080/"
        },
        "id": "ihkXwTdk5ON1",
        "outputId": "77b60631-a028-4977-a326-99ff922c0d66"
      },
      "execution_count": 21,
      "outputs": [
        {
          "output_type": "stream",
          "name": "stdout",
          "text": [
            "Enter the first number: 4\n",
            "Enter the second number2\n",
            "sum:  6.0\n",
            "difference:  2.0\n",
            "product 8.0\n",
            "quotient:  2.0\n"
          ]
        }
      ]
    },
    {
      "cell_type": "markdown",
      "source": [
        "# Assignment 5: Combining Strings and Numbers\n",
        "## Task: Write a program that:\n",
        "\n",
        "Asks the user for their name and their favorite number.\n",
        "\n",
        "Prints a message that says, \"Hello, [name]! Did you know that [favorite number] times 2 is [result]?\"\n",
        "\n",
        "Example Interaction:\n",
        "\n",
        "Enter your name: Alice\n",
        "\n",
        "Enter your favorite number: 7\n",
        "\n",
        "Hello, Alice! Did you know that 7 times 2 is 14?"
      ],
      "metadata": {
        "id": "5V7KnWN497QK"
      }
    },
    {
      "cell_type": "code",
      "source": [
        "name = input(\"Enter your name: \")\n",
        "favorite_number = int(input(\"Enter your favorite number:\"))\n",
        "result = favorite_number * 2\n",
        "print(\"Hello,\", name, \"Did you know that\", favorite_number, \"times 2 is\", result, \"?\")\n"
      ],
      "metadata": {
        "colab": {
          "base_uri": "https://localhost:8080/"
        },
        "id": "seZTWF6R-jJh",
        "outputId": "1c08d1f5-5881-447b-906b-cefe1d886245"
      },
      "execution_count": 22,
      "outputs": [
        {
          "output_type": "stream",
          "name": "stdout",
          "text": [
            "Enter your name: Afamefuna Samuel!\n",
            "Enter your favorite number:10\n",
            "Hello, Afamefuna Samuel! Did you know that 10 times 2 is 20 ?\n"
          ]
        }
      ]
    }
  ]
}