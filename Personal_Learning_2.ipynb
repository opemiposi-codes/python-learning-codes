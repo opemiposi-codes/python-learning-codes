{
  "nbformat": 4,
  "nbformat_minor": 0,
  "metadata": {
    "colab": {
      "provenance": [],
      "authorship_tag": "ABX9TyOkB0AatCip6nlmLDGzRRTO",
      "include_colab_link": true
    },
    "kernelspec": {
      "name": "python3",
      "display_name": "Python 3"
    },
    "language_info": {
      "name": "python"
    }
  },
  "cells": [
    {
      "cell_type": "markdown",
      "metadata": {
        "id": "view-in-github",
        "colab_type": "text"
      },
      "source": [
        "<a href=\"https://colab.research.google.com/github/opemiposi-codes/python-learning-codes/blob/main/Personal_Learning_2.ipynb\" target=\"_parent\"><img src=\"https://colab.research.google.com/assets/colab-badge.svg\" alt=\"Open In Colab\"/></a>"
      ]
    },
    {
      "cell_type": "code",
      "execution_count": 3,
      "metadata": {
        "colab": {
          "base_uri": "https://localhost:8080/"
        },
        "id": "0Cu3TdUXqnhE",
        "outputId": "89968df4-67f2-4d11-8537-7297abc8909a"
      },
      "outputs": [
        {
          "output_type": "stream",
          "name": "stdout",
          "text": [
            "Enter your age: 12\n",
            "You are a child\n"
          ]
        }
      ],
      "source": [
        "# playing around with the if elif else statements\n",
        "# testing out an age grade system\n",
        "age = int(input(\"Enter your age: \"))\n",
        "if age >= 18:\n",
        "  print(\"You are an adult\")\n",
        "elif age >= 13:\n",
        "  print(\"You are a teenager\")\n",
        "else:\n",
        "  print(\"You are a child\")"
      ]
    },
    {
      "cell_type": "code",
      "source": [
        "# testing out a school grading system\n",
        "score = int(input(\"What is your score? \"))\n",
        "if score >= 90:\n",
        "  print(\"Grade: A\")\n",
        "elif score >= 80:\n",
        "  print(\"Grade: B\")\n",
        "elif score >= 70:\n",
        "  print(\"Grade: C\")\n",
        "elif score >= 60:\n",
        "  print(\"Grade: D\")\n",
        "else:\n",
        "  print(\"Grade: F\")\n"
      ],
      "metadata": {
        "colab": {
          "base_uri": "https://localhost:8080/"
        },
        "id": "DbdDD9JMsnqj",
        "outputId": "e5e70d96-bde7-4fdb-adea-843149ef32e5"
      },
      "execution_count": 12,
      "outputs": [
        {
          "output_type": "stream",
          "name": "stdout",
          "text": [
            "What is your score? 2000\n",
            "Grade: A\n"
          ]
        }
      ]
    },
    {
      "cell_type": "code",
      "source": [
        "# comparison stuff, testing if something is true or false\n",
        "# testing\n",
        "x = 10\n",
        "y = 8\n",
        "print(x == y)\n",
        "print(x != y)\n",
        "print(x < y)"
      ],
      "metadata": {
        "colab": {
          "base_uri": "https://localhost:8080/"
        },
        "id": "WfJ8tqSzuukf",
        "outputId": "2f8ef035-e9be-460c-aa24-297f82c4b5a5"
      },
      "execution_count": 1,
      "outputs": [
        {
          "output_type": "stream",
          "name": "stdout",
          "text": [
            "False\n",
            "True\n",
            "False\n"
          ]
        }
      ]
    }
  ]
}